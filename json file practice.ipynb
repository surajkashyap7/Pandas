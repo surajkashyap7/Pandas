{
 "cells": [
  {
   "cell_type": "code",
   "execution_count": 1,
   "id": "196e2143",
   "metadata": {},
   "outputs": [],
   "source": [
    "import pandas as pd"
   ]
  },
  {
   "cell_type": "code",
   "execution_count": 2,
   "id": "b47edd69",
   "metadata": {},
   "outputs": [],
   "source": [
    "data = {\n",
    "  \"employees\": [\n",
    "    {\n",
    "      \"employee_id\": 101,\n",
    "      \"name\": \"Alice Johnson\",\n",
    "      \"department\": \"IT\",\n",
    "      \"designation\": \"Software Engineer\",\n",
    "      \"salary\": 75000,\n",
    "      \"joining_date\": \"2020-06-15\"\n",
    "    },\n",
    "    {\n",
    "      \"employee_id\": 102,\n",
    "      \"name\": \"Bob Smith\",\n",
    "      \"department\": \"HR\",\n",
    "      \"designation\": \"HR Manager\",\n",
    "      \"salary\": 65000,\n",
    "      \"joining_date\": \"2019-08-20\"\n",
    "    },\n",
    "    {\n",
    "      \"employee_id\": 103,\n",
    "      \"name\": \"Charlie Brown\",\n",
    "      \"department\": \"Finance\",\n",
    "      \"designation\": \"Accountant\",\n",
    "      \"salary\": 70000,\n",
    "      \"joining_date\": \"2018-07-10\"\n",
    "    },\n",
    "    {\n",
    "      \"employee_id\": 104,\n",
    "      \"name\": \"David Wilson\",\n",
    "      \"department\": \"IT\",\n",
    "      \"designation\": \"Data Analyst\",\n",
    "      \"salary\": 72000,\n",
    "      \"joining_date\": \"2021-04-05\"\n",
    "    },\n",
    "    {\n",
    "      \"employee_id\": 105,\n",
    "      \"name\": \"Emma Davis\",\n",
    "      \"department\": \"Marketing\",\n",
    "      \"designation\": \"Marketing Executive\",\n",
    "      \"salary\": 60000,\n",
    "      \"joining_date\": \"2020-09-12\"\n",
    "    },\n",
    "    {\n",
    "      \"employee_id\": 106,\n",
    "      \"name\": \"Franklin Harris\",\n",
    "      \"department\": \"IT\",\n",
    "      \"designation\": \"DevOps Engineer\",\n",
    "      \"salary\": 85000,\n",
    "      \"joining_date\": \"2019-11-30\"\n",
    "    },\n",
    "    {\n",
    "      \"employee_id\": 107,\n",
    "      \"name\": \"Grace Thompson\",\n",
    "      \"department\": \"Sales\",\n",
    "      \"designation\": \"Sales Manager\",\n",
    "      \"salary\": 68000,\n",
    "      \"joining_date\": \"2021-02-22\"\n",
    "    },\n",
    "    {\n",
    "      \"employee_id\": 108,\n",
    "      \"name\": \"Henry Martinez\",\n",
    "      \"department\": \"Operations\",\n",
    "      \"designation\": \"Operations Manager\",\n",
    "      \"salary\": 78000,\n",
    "      \"joining_date\": \"2017-12-18\"\n",
    "    },\n",
    "    {\n",
    "      \"employee_id\": 109,\n",
    "      \"name\": \"Isabella White\",\n",
    "      \"department\": \"Customer Support\",\n",
    "      \"designation\": \"Support Executive\",\n",
    "      \"salary\": 55000,\n",
    "      \"joining_date\": \"2022-01-25\"\n",
    "    },\n",
    "    {\n",
    "      \"employee_id\": 110,\n",
    "      \"name\": \"Jack Robinson\",\n",
    "      \"department\": \"IT\",\n",
    "      \"designation\": \"Database Administrator\",\n",
    "      \"salary\": 90000,\n",
    "      \"joining_date\": \"2016-06-05\"\n",
    "    }\n",
    "  ]\n",
    "}\n"
   ]
  },
  {
   "cell_type": "code",
   "execution_count": 4,
   "id": "63a4d774",
   "metadata": {},
   "outputs": [
    {
     "data": {
      "text/plain": [
       "[{'employee_id': 101,\n",
       "  'name': 'Alice Johnson',\n",
       "  'department': 'IT',\n",
       "  'designation': 'Software Engineer',\n",
       "  'salary': 75000,\n",
       "  'joining_date': '2020-06-15'},\n",
       " {'employee_id': 102,\n",
       "  'name': 'Bob Smith',\n",
       "  'department': 'HR',\n",
       "  'designation': 'HR Manager',\n",
       "  'salary': 65000,\n",
       "  'joining_date': '2019-08-20'},\n",
       " {'employee_id': 103,\n",
       "  'name': 'Charlie Brown',\n",
       "  'department': 'Finance',\n",
       "  'designation': 'Accountant',\n",
       "  'salary': 70000,\n",
       "  'joining_date': '2018-07-10'},\n",
       " {'employee_id': 104,\n",
       "  'name': 'David Wilson',\n",
       "  'department': 'IT',\n",
       "  'designation': 'Data Analyst',\n",
       "  'salary': 72000,\n",
       "  'joining_date': '2021-04-05'},\n",
       " {'employee_id': 105,\n",
       "  'name': 'Emma Davis',\n",
       "  'department': 'Marketing',\n",
       "  'designation': 'Marketing Executive',\n",
       "  'salary': 60000,\n",
       "  'joining_date': '2020-09-12'},\n",
       " {'employee_id': 106,\n",
       "  'name': 'Franklin Harris',\n",
       "  'department': 'IT',\n",
       "  'designation': 'DevOps Engineer',\n",
       "  'salary': 85000,\n",
       "  'joining_date': '2019-11-30'},\n",
       " {'employee_id': 107,\n",
       "  'name': 'Grace Thompson',\n",
       "  'department': 'Sales',\n",
       "  'designation': 'Sales Manager',\n",
       "  'salary': 68000,\n",
       "  'joining_date': '2021-02-22'},\n",
       " {'employee_id': 108,\n",
       "  'name': 'Henry Martinez',\n",
       "  'department': 'Operations',\n",
       "  'designation': 'Operations Manager',\n",
       "  'salary': 78000,\n",
       "  'joining_date': '2017-12-18'},\n",
       " {'employee_id': 109,\n",
       "  'name': 'Isabella White',\n",
       "  'department': 'Customer Support',\n",
       "  'designation': 'Support Executive',\n",
       "  'salary': 55000,\n",
       "  'joining_date': '2022-01-25'},\n",
       " {'employee_id': 110,\n",
       "  'name': 'Jack Robinson',\n",
       "  'department': 'IT',\n",
       "  'designation': 'Database Administrator',\n",
       "  'salary': 90000,\n",
       "  'joining_date': '2016-06-05'}]"
      ]
     },
     "execution_count": 4,
     "metadata": {},
     "output_type": "execute_result"
    }
   ],
   "source": [
    "data['employees']"
   ]
  },
  {
   "cell_type": "code",
   "execution_count": 5,
   "id": "cc20ac48",
   "metadata": {},
   "outputs": [
    {
     "data": {
      "text/plain": [
       "{'employee_id': 101,\n",
       " 'name': 'Alice Johnson',\n",
       " 'department': 'IT',\n",
       " 'designation': 'Software Engineer',\n",
       " 'salary': 75000,\n",
       " 'joining_date': '2020-06-15'}"
      ]
     },
     "execution_count": 5,
     "metadata": {},
     "output_type": "execute_result"
    }
   ],
   "source": [
    "data['employees'][0]"
   ]
  },
  {
   "cell_type": "code",
   "execution_count": 6,
   "id": "9f4055de",
   "metadata": {},
   "outputs": [
    {
     "data": {
      "text/plain": [
       "101"
      ]
     },
     "execution_count": 6,
     "metadata": {},
     "output_type": "execute_result"
    }
   ],
   "source": [
    "data['employees'][0]['employee_id']"
   ]
  },
  {
   "cell_type": "code",
   "execution_count": 7,
   "id": "fed021ca",
   "metadata": {},
   "outputs": [
    {
     "data": {
      "text/plain": [
       "'IT'"
      ]
     },
     "execution_count": 7,
     "metadata": {},
     "output_type": "execute_result"
    }
   ],
   "source": [
    "data['employees'][0]['department']"
   ]
  },
  {
   "cell_type": "code",
   "execution_count": 11,
   "id": "68bf6e90",
   "metadata": {},
   "outputs": [
    {
     "data": {
      "text/plain": [
       "dict_keys(['employees'])"
      ]
     },
     "execution_count": 11,
     "metadata": {},
     "output_type": "execute_result"
    }
   ],
   "source": [
    "data.keys()"
   ]
  },
  {
   "cell_type": "code",
   "execution_count": 15,
   "id": "47f182fd",
   "metadata": {},
   "outputs": [
    {
     "name": "stdout",
     "output_type": "stream",
     "text": [
      "101\n",
      "102\n",
      "103\n",
      "104\n",
      "105\n",
      "106\n",
      "107\n",
      "108\n",
      "109\n",
      "110\n"
     ]
    }
   ],
   "source": [
    "for row in data['employees']:\n",
    "    emp_id = row['employee_id']\n",
    "    emp_name = row['name']\n",
    "    department = row['department']\n",
    "    designation = row['designation']\n",
    "    salary = row['salary']\n",
    "    joining_date = row['joining_date']\n",
    "    \n",
    "    print(emp_id)"
   ]
  },
  {
   "cell_type": "code",
   "execution_count": 16,
   "id": "1aa9dd59",
   "metadata": {},
   "outputs": [
    {
     "name": "stdout",
     "output_type": "stream",
     "text": [
      "{'emp_id': 101, 'emp_name': 'Alice Johnson', 'department': 'IT', 'designation': 'Software Engineer', 'salary': 75000, 'joining_date': '2020-06-15'}\n",
      "{'emp_id': 102, 'emp_name': 'Bob Smith', 'department': 'HR', 'designation': 'HR Manager', 'salary': 65000, 'joining_date': '2019-08-20'}\n",
      "{'emp_id': 103, 'emp_name': 'Charlie Brown', 'department': 'Finance', 'designation': 'Accountant', 'salary': 70000, 'joining_date': '2018-07-10'}\n",
      "{'emp_id': 104, 'emp_name': 'David Wilson', 'department': 'IT', 'designation': 'Data Analyst', 'salary': 72000, 'joining_date': '2021-04-05'}\n",
      "{'emp_id': 105, 'emp_name': 'Emma Davis', 'department': 'Marketing', 'designation': 'Marketing Executive', 'salary': 60000, 'joining_date': '2020-09-12'}\n",
      "{'emp_id': 106, 'emp_name': 'Franklin Harris', 'department': 'IT', 'designation': 'DevOps Engineer', 'salary': 85000, 'joining_date': '2019-11-30'}\n",
      "{'emp_id': 107, 'emp_name': 'Grace Thompson', 'department': 'Sales', 'designation': 'Sales Manager', 'salary': 68000, 'joining_date': '2021-02-22'}\n",
      "{'emp_id': 108, 'emp_name': 'Henry Martinez', 'department': 'Operations', 'designation': 'Operations Manager', 'salary': 78000, 'joining_date': '2017-12-18'}\n",
      "{'emp_id': 109, 'emp_name': 'Isabella White', 'department': 'Customer Support', 'designation': 'Support Executive', 'salary': 55000, 'joining_date': '2022-01-25'}\n",
      "{'emp_id': 110, 'emp_name': 'Jack Robinson', 'department': 'IT', 'designation': 'Database Administrator', 'salary': 90000, 'joining_date': '2016-06-05'}\n"
     ]
    }
   ],
   "source": [
    "for row in data['employees']:\n",
    "    emp_id = row['employee_id']\n",
    "    emp_name = row['name']\n",
    "    department = row['department']\n",
    "    designation = row['designation']\n",
    "    salary = row['salary']\n",
    "    joining_date = row['joining_date']\n",
    "    emp_element= {'emp_id': emp_id ,'emp_name':emp_name,'department':department,'designation':designation,\n",
    "                 'salary':salary,'joining_date':joining_date}\n",
    "    print(emp_element)"
   ]
  },
  {
   "cell_type": "code",
   "execution_count": 17,
   "id": "3b8d380c",
   "metadata": {},
   "outputs": [],
   "source": [
    "employee = []\n",
    "for row in data['employees']:\n",
    "    emp_id = row['employee_id']\n",
    "    emp_name = row['name']\n",
    "    department = row['department']\n",
    "    designation = row['designation']\n",
    "    salary = row['salary']\n",
    "    joining_date = row['joining_date']\n",
    "    emp_element= {'emp_id': emp_id ,'emp_name':emp_name,'department':department,'designation':designation,\n",
    "                 'salary':salary,'joining_date':joining_date}\n",
    "    employee.append(emp_element)"
   ]
  },
  {
   "cell_type": "code",
   "execution_count": 18,
   "id": "b5f8051e",
   "metadata": {},
   "outputs": [
    {
     "data": {
      "text/plain": [
       "[{'emp_id': 101,\n",
       "  'emp_name': 'Alice Johnson',\n",
       "  'department': 'IT',\n",
       "  'designation': 'Software Engineer',\n",
       "  'salary': 75000,\n",
       "  'joining_date': '2020-06-15'},\n",
       " {'emp_id': 102,\n",
       "  'emp_name': 'Bob Smith',\n",
       "  'department': 'HR',\n",
       "  'designation': 'HR Manager',\n",
       "  'salary': 65000,\n",
       "  'joining_date': '2019-08-20'},\n",
       " {'emp_id': 103,\n",
       "  'emp_name': 'Charlie Brown',\n",
       "  'department': 'Finance',\n",
       "  'designation': 'Accountant',\n",
       "  'salary': 70000,\n",
       "  'joining_date': '2018-07-10'},\n",
       " {'emp_id': 104,\n",
       "  'emp_name': 'David Wilson',\n",
       "  'department': 'IT',\n",
       "  'designation': 'Data Analyst',\n",
       "  'salary': 72000,\n",
       "  'joining_date': '2021-04-05'},\n",
       " {'emp_id': 105,\n",
       "  'emp_name': 'Emma Davis',\n",
       "  'department': 'Marketing',\n",
       "  'designation': 'Marketing Executive',\n",
       "  'salary': 60000,\n",
       "  'joining_date': '2020-09-12'},\n",
       " {'emp_id': 106,\n",
       "  'emp_name': 'Franklin Harris',\n",
       "  'department': 'IT',\n",
       "  'designation': 'DevOps Engineer',\n",
       "  'salary': 85000,\n",
       "  'joining_date': '2019-11-30'},\n",
       " {'emp_id': 107,\n",
       "  'emp_name': 'Grace Thompson',\n",
       "  'department': 'Sales',\n",
       "  'designation': 'Sales Manager',\n",
       "  'salary': 68000,\n",
       "  'joining_date': '2021-02-22'},\n",
       " {'emp_id': 108,\n",
       "  'emp_name': 'Henry Martinez',\n",
       "  'department': 'Operations',\n",
       "  'designation': 'Operations Manager',\n",
       "  'salary': 78000,\n",
       "  'joining_date': '2017-12-18'},\n",
       " {'emp_id': 109,\n",
       "  'emp_name': 'Isabella White',\n",
       "  'department': 'Customer Support',\n",
       "  'designation': 'Support Executive',\n",
       "  'salary': 55000,\n",
       "  'joining_date': '2022-01-25'},\n",
       " {'emp_id': 110,\n",
       "  'emp_name': 'Jack Robinson',\n",
       "  'department': 'IT',\n",
       "  'designation': 'Database Administrator',\n",
       "  'salary': 90000,\n",
       "  'joining_date': '2016-06-05'}]"
      ]
     },
     "execution_count": 18,
     "metadata": {},
     "output_type": "execute_result"
    }
   ],
   "source": [
    "employee"
   ]
  },
  {
   "cell_type": "code",
   "execution_count": 3,
   "id": "d21dd940",
   "metadata": {},
   "outputs": [],
   "source": [
    "# nested json\n",
    "\n",
    "emp = {\n",
    "  \"employees\": [\n",
    "    {\n",
    "      \"employee_id\": 101,\n",
    "      \"name\": \"Alice Johnson\",\n",
    "      \"personal_details\": {\n",
    "        \"age\": 28,\n",
    "        \"gender\": \"Female\",\n",
    "        \"contact\": {\n",
    "          \"email\": \"alice.johnson@example.com\",\n",
    "          \"phone\": \"+1-234-567-8901\"\n",
    "        }\n",
    "      },\n",
    "      \"job_details\": {\n",
    "        \"department\": \"IT\",\n",
    "        \"designation\": \"Software Engineer\",\n",
    "        \"salary\": 75000,\n",
    "        \"joining_date\": \"2020-06-15\"\n",
    "      },\n",
    "      \"projects\": [\n",
    "        {\n",
    "          \"project_id\": \"P101\",\n",
    "          \"name\": \"Website Redesign\",\n",
    "          \"status\": \"Completed\"\n",
    "        },\n",
    "        {\n",
    "          \"project_id\": \"P102\",\n",
    "          \"name\": \"Mobile App Development\",\n",
    "          \"status\": \"In Progress\"\n",
    "        }\n",
    "      ]\n",
    "    },\n",
    "    {\n",
    "      \"employee_id\": 102,\n",
    "      \"name\": \"Bob Smith\",\n",
    "      \"personal_details\": {\n",
    "        \"age\": 35,\n",
    "        \"gender\": \"Male\",\n",
    "        \"contact\": {\n",
    "          \"email\": \"bob.smith@example.com\",\n",
    "          \"phone\": \"+1-234-567-8902\"\n",
    "        }\n",
    "      },\n",
    "      \"job_details\": {\n",
    "        \"department\": \"HR\",\n",
    "        \"designation\": \"HR Manager\",\n",
    "        \"salary\": 65000,\n",
    "        \"joining_date\": \"2019-08-20\"\n",
    "      },\n",
    "      \"projects\": [\n",
    "        {\n",
    "          \"project_id\": \"P103\",\n",
    "          \"name\": \"Employee Onboarding System\",\n",
    "          \"status\": \"Ongoing\"\n",
    "        }\n",
    "      ]\n",
    "    },\n",
    "    {\n",
    "      \"employee_id\": 103,\n",
    "      \"name\": \"Charlie Brown\",\n",
    "      \"personal_details\": {\n",
    "        \"age\": 30,\n",
    "        \"gender\": \"Male\",\n",
    "        \"contact\": {\n",
    "          \"email\": \"charlie.brown@example.com\",\n",
    "          \"phone\": \"+1-234-567-8903\"\n",
    "        }\n",
    "      },\n",
    "      \"job_details\": {\n",
    "        \"department\": \"Finance\",\n",
    "        \"designation\": \"Accountant\",\n",
    "        \"salary\": 70000,\n",
    "        \"joining_date\": \"2018-07-10\"\n",
    "      },\n",
    "      \"projects\": []\n",
    "    },\n",
    "    {\n",
    "      \"employee_id\": 104,\n",
    "      \"name\": \"David Wilson\",\n",
    "      \"personal_details\": {\n",
    "        \"age\": 27,\n",
    "        \"gender\": \"Male\",\n",
    "        \"contact\": {\n",
    "          \"email\": \"david.wilson@example.com\",\n",
    "          \"phone\": \"+1-234-567-8904\"\n",
    "        }\n",
    "      },\n",
    "      \"job_details\": {\n",
    "        \"department\": \"IT\",\n",
    "        \"designation\": \"Data Analyst\",\n",
    "        \"salary\": 72000,\n",
    "        \"joining_date\": \"2021-04-05\"\n",
    "      },\n",
    "      \"projects\": [\n",
    "        {\n",
    "          \"project_id\": \"P104\",\n",
    "          \"name\": \"Data Warehouse Setup\",\n",
    "          \"status\": \"Completed\"\n",
    "        }\n",
    "      ]\n",
    "    },\n",
    "    {\n",
    "      \"employee_id\": 105,\n",
    "      \"name\": \"Emma Davis\",\n",
    "      \"personal_details\": {\n",
    "        \"age\": 32,\n",
    "        \"gender\": \"Female\",\n",
    "        \"contact\": {\n",
    "          \"email\": \"emma.davis@example.com\",\n",
    "          \"phone\": \"+1-234-567-8905\"\n",
    "        }\n",
    "      },\n",
    "      \"job_details\": {\n",
    "        \"department\": \"Marketing\",\n",
    "        \"designation\": \"Marketing Executive\",\n",
    "        \"salary\": 60000,\n",
    "        \"joining_date\": \"2020-09-12\"\n",
    "      },\n",
    "      \"projects\": [\n",
    "        {\n",
    "          \"project_id\": \"P105\",\n",
    "          \"name\": \"Social Media Campaign\",\n",
    "          \"status\": \"In Progress\"\n",
    "        }\n",
    "      ]\n",
    "    }\n",
    "  ]\n",
    "}\n"
   ]
  },
  {
   "cell_type": "code",
   "execution_count": 4,
   "id": "b65730b4",
   "metadata": {},
   "outputs": [
    {
     "data": {
      "text/plain": [
       "[{'employee_id': 101,\n",
       "  'name': 'Alice Johnson',\n",
       "  'personal_details': {'age': 28,\n",
       "   'gender': 'Female',\n",
       "   'contact': {'email': 'alice.johnson@example.com',\n",
       "    'phone': '+1-234-567-8901'}},\n",
       "  'job_details': {'department': 'IT',\n",
       "   'designation': 'Software Engineer',\n",
       "   'salary': 75000,\n",
       "   'joining_date': '2020-06-15'},\n",
       "  'projects': [{'project_id': 'P101',\n",
       "    'name': 'Website Redesign',\n",
       "    'status': 'Completed'},\n",
       "   {'project_id': 'P102',\n",
       "    'name': 'Mobile App Development',\n",
       "    'status': 'In Progress'}]},\n",
       " {'employee_id': 102,\n",
       "  'name': 'Bob Smith',\n",
       "  'personal_details': {'age': 35,\n",
       "   'gender': 'Male',\n",
       "   'contact': {'email': 'bob.smith@example.com', 'phone': '+1-234-567-8902'}},\n",
       "  'job_details': {'department': 'HR',\n",
       "   'designation': 'HR Manager',\n",
       "   'salary': 65000,\n",
       "   'joining_date': '2019-08-20'},\n",
       "  'projects': [{'project_id': 'P103',\n",
       "    'name': 'Employee Onboarding System',\n",
       "    'status': 'Ongoing'}]},\n",
       " {'employee_id': 103,\n",
       "  'name': 'Charlie Brown',\n",
       "  'personal_details': {'age': 30,\n",
       "   'gender': 'Male',\n",
       "   'contact': {'email': 'charlie.brown@example.com',\n",
       "    'phone': '+1-234-567-8903'}},\n",
       "  'job_details': {'department': 'Finance',\n",
       "   'designation': 'Accountant',\n",
       "   'salary': 70000,\n",
       "   'joining_date': '2018-07-10'},\n",
       "  'projects': []},\n",
       " {'employee_id': 104,\n",
       "  'name': 'David Wilson',\n",
       "  'personal_details': {'age': 27,\n",
       "   'gender': 'Male',\n",
       "   'contact': {'email': 'david.wilson@example.com',\n",
       "    'phone': '+1-234-567-8904'}},\n",
       "  'job_details': {'department': 'IT',\n",
       "   'designation': 'Data Analyst',\n",
       "   'salary': 72000,\n",
       "   'joining_date': '2021-04-05'},\n",
       "  'projects': [{'project_id': 'P104',\n",
       "    'name': 'Data Warehouse Setup',\n",
       "    'status': 'Completed'}]},\n",
       " {'employee_id': 105,\n",
       "  'name': 'Emma Davis',\n",
       "  'personal_details': {'age': 32,\n",
       "   'gender': 'Female',\n",
       "   'contact': {'email': 'emma.davis@example.com', 'phone': '+1-234-567-8905'}},\n",
       "  'job_details': {'department': 'Marketing',\n",
       "   'designation': 'Marketing Executive',\n",
       "   'salary': 60000,\n",
       "   'joining_date': '2020-09-12'},\n",
       "  'projects': [{'project_id': 'P105',\n",
       "    'name': 'Social Media Campaign',\n",
       "    'status': 'In Progress'}]}]"
      ]
     },
     "execution_count": 4,
     "metadata": {},
     "output_type": "execute_result"
    }
   ],
   "source": [
    "emp['employees']"
   ]
  },
  {
   "cell_type": "code",
   "execution_count": 5,
   "id": "d4f4c3d9",
   "metadata": {},
   "outputs": [
    {
     "data": {
      "text/plain": [
       "{'employee_id': 101,\n",
       " 'name': 'Alice Johnson',\n",
       " 'personal_details': {'age': 28,\n",
       "  'gender': 'Female',\n",
       "  'contact': {'email': 'alice.johnson@example.com',\n",
       "   'phone': '+1-234-567-8901'}},\n",
       " 'job_details': {'department': 'IT',\n",
       "  'designation': 'Software Engineer',\n",
       "  'salary': 75000,\n",
       "  'joining_date': '2020-06-15'},\n",
       " 'projects': [{'project_id': 'P101',\n",
       "   'name': 'Website Redesign',\n",
       "   'status': 'Completed'},\n",
       "  {'project_id': 'P102',\n",
       "   'name': 'Mobile App Development',\n",
       "   'status': 'In Progress'}]}"
      ]
     },
     "execution_count": 5,
     "metadata": {},
     "output_type": "execute_result"
    }
   ],
   "source": [
    "emp['employees'][0]"
   ]
  },
  {
   "cell_type": "code",
   "execution_count": 6,
   "id": "f763e454",
   "metadata": {},
   "outputs": [
    {
     "data": {
      "text/plain": [
       "101"
      ]
     },
     "execution_count": 6,
     "metadata": {},
     "output_type": "execute_result"
    }
   ],
   "source": [
    "emp['employees'][0]['employee_id']"
   ]
  },
  {
   "cell_type": "code",
   "execution_count": 7,
   "id": "cc7b4b55",
   "metadata": {},
   "outputs": [
    {
     "data": {
      "text/plain": [
       "{'age': 28,\n",
       " 'gender': 'Female',\n",
       " 'contact': {'email': 'alice.johnson@example.com', 'phone': '+1-234-567-8901'}}"
      ]
     },
     "execution_count": 7,
     "metadata": {},
     "output_type": "execute_result"
    }
   ],
   "source": [
    "emp['employees'][0]['personal_details']"
   ]
  },
  {
   "cell_type": "code",
   "execution_count": 8,
   "id": "e3cc5024",
   "metadata": {},
   "outputs": [
    {
     "data": {
      "text/plain": [
       "{'email': 'alice.johnson@example.com', 'phone': '+1-234-567-8901'}"
      ]
     },
     "execution_count": 8,
     "metadata": {},
     "output_type": "execute_result"
    }
   ],
   "source": [
    "emp['employees'][0]['personal_details']['contact']"
   ]
  },
  {
   "cell_type": "code",
   "execution_count": 10,
   "id": "2c403fbd",
   "metadata": {},
   "outputs": [
    {
     "name": "stdout",
     "output_type": "stream",
     "text": [
      "{'age': 28, 'gender': 'Female', 'contact': {'email': 'alice.johnson@example.com', 'phone': '+1-234-567-8901'}}\n",
      "{'age': 35, 'gender': 'Male', 'contact': {'email': 'bob.smith@example.com', 'phone': '+1-234-567-8902'}}\n",
      "{'age': 30, 'gender': 'Male', 'contact': {'email': 'charlie.brown@example.com', 'phone': '+1-234-567-8903'}}\n",
      "{'age': 27, 'gender': 'Male', 'contact': {'email': 'david.wilson@example.com', 'phone': '+1-234-567-8904'}}\n",
      "{'age': 32, 'gender': 'Female', 'contact': {'email': 'emma.davis@example.com', 'phone': '+1-234-567-8905'}}\n"
     ]
    }
   ],
   "source": [
    "for row in emp['employees']:\n",
    "    emp_id = row['employee_id']\n",
    "    emp_name = row['name']\n",
    "    personal_details = row['personal_details']\n",
    "    print(personal_details)\n",
    "    "
   ]
  },
  {
   "cell_type": "code",
   "execution_count": 13,
   "id": "da92e870",
   "metadata": {},
   "outputs": [
    {
     "name": "stdout",
     "output_type": "stream",
     "text": [
      "{'age': 28, 'gender': 'Female', 'contact': {'email': 'alice.johnson@example.com', 'phone': '+1-234-567-8901'}}\n",
      "{'age': 35, 'gender': 'Male', 'contact': {'email': 'bob.smith@example.com', 'phone': '+1-234-567-8902'}}\n",
      "{'age': 30, 'gender': 'Male', 'contact': {'email': 'charlie.brown@example.com', 'phone': '+1-234-567-8903'}}\n",
      "{'age': 27, 'gender': 'Male', 'contact': {'email': 'david.wilson@example.com', 'phone': '+1-234-567-8904'}}\n",
      "{'age': 32, 'gender': 'Female', 'contact': {'email': 'emma.davis@example.com', 'phone': '+1-234-567-8905'}}\n"
     ]
    }
   ],
   "source": [
    "for row in emp['employees']:\n",
    "    for key, values in row.items():\n",
    "        if key == 'personal_details':\n",
    "            print(values)"
   ]
  },
  {
   "cell_type": "code",
   "execution_count": 14,
   "id": "c9d4c999",
   "metadata": {},
   "outputs": [
    {
     "name": "stdout",
     "output_type": "stream",
     "text": [
      "[{'project_id': 'P105', 'name': 'Social Media Campaign', 'status': 'In Progress'}]\n"
     ]
    },
    {
     "ename": "KeyError",
     "evalue": "'personal_details'",
     "output_type": "error",
     "traceback": [
      "\u001b[1;31m---------------------------------------------------------------------------\u001b[0m",
      "\u001b[1;31mKeyError\u001b[0m                                  Traceback (most recent call last)",
      "\u001b[1;32m<ipython-input-14-7e3639a2182c>\u001b[0m in \u001b[0;36m<module>\u001b[1;34m\u001b[0m\n\u001b[0;32m      3\u001b[0m         \u001b[1;32mif\u001b[0m \u001b[0mkey\u001b[0m \u001b[1;33m==\u001b[0m \u001b[1;34m'personal_details'\u001b[0m\u001b[1;33m:\u001b[0m\u001b[1;33m\u001b[0m\u001b[1;33m\u001b[0m\u001b[0m\n\u001b[0;32m      4\u001b[0m             \u001b[0mprint\u001b[0m\u001b[1;33m(\u001b[0m\u001b[0mvalues\u001b[0m\u001b[1;33m)\u001b[0m\u001b[1;33m\u001b[0m\u001b[1;33m\u001b[0m\u001b[0m\n\u001b[1;32m----> 5\u001b[1;33m             \u001b[1;32mfor\u001b[0m \u001b[0mdetails\u001b[0m \u001b[1;32min\u001b[0m \u001b[0mvalue\u001b[0m\u001b[1;33m[\u001b[0m\u001b[1;34m'personal_details'\u001b[0m\u001b[1;33m]\u001b[0m\u001b[1;33m:\u001b[0m\u001b[1;33m\u001b[0m\u001b[1;33m\u001b[0m\u001b[0m\n\u001b[0m\u001b[0;32m      6\u001b[0m                 \u001b[0mprint\u001b[0m\u001b[1;33m(\u001b[0m\u001b[0mdetails\u001b[0m\u001b[1;33m)\u001b[0m\u001b[1;33m\u001b[0m\u001b[1;33m\u001b[0m\u001b[0m\n",
      "\u001b[1;31mKeyError\u001b[0m: 'personal_details'"
     ]
    }
   ],
   "source": [
    "for row in emp['employees']:\n",
    "    for key, value in row.items():\n",
    "        if key == 'personal_details':\n",
    "            for details in value['personal_details']:\n",
    "                print(details)"
   ]
  },
  {
   "cell_type": "code",
   "execution_count": 15,
   "id": "d171e75c",
   "metadata": {},
   "outputs": [],
   "source": [
    "# Sample Nested JSON Data\n",
    "json_data = '''{\n",
    "  \"employees\": [\n",
    "    {\n",
    "      \"employee_id\": 101,\n",
    "      \"name\": \"Alice Johnson\",\n",
    "      \"personal_details\": {\n",
    "        \"age\": 28,\n",
    "        \"gender\": \"Female\",\n",
    "        \"contact\": {\n",
    "          \"email\": \"alice.johnson@example.com\",\n",
    "          \"phone\": \"+1-234-567-8901\"\n",
    "        }\n",
    "      },\n",
    "      \"job_details\": {\n",
    "        \"department\": \"IT\",\n",
    "        \"designation\": \"Software Engineer\",\n",
    "        \"salary\": 75000,\n",
    "        \"joining_date\": \"2020-06-15\"\n",
    "      },\n",
    "      \"projects\": [\n",
    "        {\n",
    "          \"project_id\": \"P101\",\n",
    "          \"name\": \"Website Redesign\",\n",
    "          \"status\": \"Completed\"\n",
    "        },\n",
    "        {\n",
    "          \"project_id\": \"P102\",\n",
    "          \"name\": \"Mobile App Development\",\n",
    "          \"status\": \"In Progress\"\n",
    "        }\n",
    "      ]\n",
    "    },\n",
    "    {\n",
    "      \"employee_id\": 102,\n",
    "      \"name\": \"Bob Smith\",\n",
    "      \"personal_details\": {\n",
    "        \"age\": 35,\n",
    "        \"gender\": \"Male\",\n",
    "        \"contact\": {\n",
    "          \"email\": \"bob.smith@example.com\",\n",
    "          \"phone\": \"+1-234-567-8902\"\n",
    "        }\n",
    "      },\n",
    "      \"job_details\": {\n",
    "        \"department\": \"HR\",\n",
    "        \"designation\": \"HR Manager\",\n",
    "        \"salary\": 65000,\n",
    "        \"joining_date\": \"2019-08-20\"\n",
    "      },\n",
    "      \"projects\": [\n",
    "        {\n",
    "          \"project_id\": \"P103\",\n",
    "          \"name\": \"Employee Onboarding System\",\n",
    "          \"status\": \"Ongoing\"\n",
    "        }\n",
    "      ]\n",
    "    }\n",
    "  ]\n",
    "}'''"
   ]
  },
  {
   "cell_type": "code",
   "execution_count": 16,
   "id": "9716fe07",
   "metadata": {},
   "outputs": [
    {
     "ename": "NameError",
     "evalue": "name 'json' is not defined",
     "output_type": "error",
     "traceback": [
      "\u001b[1;31m---------------------------------------------------------------------------\u001b[0m",
      "\u001b[1;31mNameError\u001b[0m                                 Traceback (most recent call last)",
      "\u001b[1;32m<ipython-input-16-76d4d11387f4>\u001b[0m in \u001b[0;36m<module>\u001b[1;34m\u001b[0m\n\u001b[0;32m      1\u001b[0m \u001b[1;31m# Convert JSON to Python Dictionary\u001b[0m\u001b[1;33m\u001b[0m\u001b[1;33m\u001b[0m\u001b[1;33m\u001b[0m\u001b[0m\n\u001b[1;32m----> 2\u001b[1;33m \u001b[0mdata\u001b[0m \u001b[1;33m=\u001b[0m \u001b[0mjson\u001b[0m\u001b[1;33m.\u001b[0m\u001b[0mloads\u001b[0m\u001b[1;33m(\u001b[0m\u001b[0mjson_data\u001b[0m\u001b[1;33m)\u001b[0m\u001b[1;33m\u001b[0m\u001b[1;33m\u001b[0m\u001b[0m\n\u001b[0m",
      "\u001b[1;31mNameError\u001b[0m: name 'json' is not defined"
     ]
    }
   ],
   "source": [
    "# Convert JSON to Python Dictionary\n",
    "data = json.loads(json_data)"
   ]
  },
  {
   "cell_type": "code",
   "execution_count": 17,
   "id": "7ddbd132",
   "metadata": {},
   "outputs": [],
   "source": [
    "import json"
   ]
  },
  {
   "cell_type": "code",
   "execution_count": 18,
   "id": "f1d531ff",
   "metadata": {},
   "outputs": [],
   "source": [
    "# Convert JSON to Python Dictionary\n",
    "data = json.loads(json_data)"
   ]
  },
  {
   "cell_type": "code",
   "execution_count": 19,
   "id": "7e0816a9",
   "metadata": {},
   "outputs": [
    {
     "data": {
      "text/plain": [
       "{'employees': [{'employee_id': 101,\n",
       "   'name': 'Alice Johnson',\n",
       "   'personal_details': {'age': 28,\n",
       "    'gender': 'Female',\n",
       "    'contact': {'email': 'alice.johnson@example.com',\n",
       "     'phone': '+1-234-567-8901'}},\n",
       "   'job_details': {'department': 'IT',\n",
       "    'designation': 'Software Engineer',\n",
       "    'salary': 75000,\n",
       "    'joining_date': '2020-06-15'},\n",
       "   'projects': [{'project_id': 'P101',\n",
       "     'name': 'Website Redesign',\n",
       "     'status': 'Completed'},\n",
       "    {'project_id': 'P102',\n",
       "     'name': 'Mobile App Development',\n",
       "     'status': 'In Progress'}]},\n",
       "  {'employee_id': 102,\n",
       "   'name': 'Bob Smith',\n",
       "   'personal_details': {'age': 35,\n",
       "    'gender': 'Male',\n",
       "    'contact': {'email': 'bob.smith@example.com', 'phone': '+1-234-567-8902'}},\n",
       "   'job_details': {'department': 'HR',\n",
       "    'designation': 'HR Manager',\n",
       "    'salary': 65000,\n",
       "    'joining_date': '2019-08-20'},\n",
       "   'projects': [{'project_id': 'P103',\n",
       "     'name': 'Employee Onboarding System',\n",
       "     'status': 'Ongoing'}]}]}"
      ]
     },
     "execution_count": 19,
     "metadata": {},
     "output_type": "execute_result"
    }
   ],
   "source": [
    "data"
   ]
  },
  {
   "cell_type": "code",
   "execution_count": 20,
   "id": "fa2b251f",
   "metadata": {},
   "outputs": [
    {
     "ename": "ValueError",
     "evalue": "Conflicting metadata name name, need distinguishing prefix ",
     "output_type": "error",
     "traceback": [
      "\u001b[1;31m---------------------------------------------------------------------------\u001b[0m",
      "\u001b[1;31mValueError\u001b[0m                                Traceback (most recent call last)",
      "\u001b[1;32m<ipython-input-20-6edc612762e2>\u001b[0m in \u001b[0;36m<module>\u001b[1;34m\u001b[0m\n\u001b[0;32m      1\u001b[0m \u001b[1;31m# Convert to Pandas DataFrame\u001b[0m\u001b[1;33m\u001b[0m\u001b[1;33m\u001b[0m\u001b[1;33m\u001b[0m\u001b[0m\n\u001b[1;32m----> 2\u001b[1;33m df = pd.json_normalize(data['employees'], \n\u001b[0m\u001b[0;32m      3\u001b[0m                         \u001b[0mmeta\u001b[0m\u001b[1;33m=\u001b[0m\u001b[1;33m[\u001b[0m\u001b[1;34m'employee_id'\u001b[0m\u001b[1;33m,\u001b[0m \u001b[1;34m'name'\u001b[0m\u001b[1;33m]\u001b[0m\u001b[1;33m,\u001b[0m\u001b[1;33m\u001b[0m\u001b[1;33m\u001b[0m\u001b[0m\n\u001b[0;32m      4\u001b[0m                         \u001b[0mrecord_path\u001b[0m\u001b[1;33m=\u001b[0m\u001b[1;33m[\u001b[0m\u001b[1;34m'projects'\u001b[0m\u001b[1;33m]\u001b[0m\u001b[1;33m,\u001b[0m\u001b[1;33m\u001b[0m\u001b[1;33m\u001b[0m\u001b[0m\n\u001b[0;32m      5\u001b[0m                         errors='ignore')\n",
      "\u001b[1;32m~\\anaconda3\\lib\\site-packages\\pandas\\io\\json\\_normalize.py\u001b[0m in \u001b[0;36m_json_normalize\u001b[1;34m(data, record_path, meta, meta_prefix, record_prefix, errors, sep, max_level)\u001b[0m\n\u001b[0;32m    347\u001b[0m \u001b[1;33m\u001b[0m\u001b[0m\n\u001b[0;32m    348\u001b[0m         \u001b[1;32mif\u001b[0m \u001b[0mk\u001b[0m \u001b[1;32min\u001b[0m \u001b[0mresult\u001b[0m\u001b[1;33m:\u001b[0m\u001b[1;33m\u001b[0m\u001b[1;33m\u001b[0m\u001b[0m\n\u001b[1;32m--> 349\u001b[1;33m             raise ValueError(\n\u001b[0m\u001b[0;32m    350\u001b[0m                 \u001b[1;34mf\"Conflicting metadata name {k}, need distinguishing prefix \"\u001b[0m\u001b[1;33m\u001b[0m\u001b[1;33m\u001b[0m\u001b[0m\n\u001b[0;32m    351\u001b[0m             )\n",
      "\u001b[1;31mValueError\u001b[0m: Conflicting metadata name name, need distinguishing prefix "
     ]
    }
   ],
   "source": [
    "# Convert to Pandas DataFrame\n",
    "df = pd.json_normalize(data['employees'], \n",
    "                        meta=['employee_id', 'name'],\n",
    "                        record_path=['projects'],\n",
    "                        errors='ignore')"
   ]
  },
  {
   "cell_type": "code",
   "execution_count": 21,
   "id": "22efe40b",
   "metadata": {},
   "outputs": [],
   "source": [
    "# Convert to Pandas DataFrame\n",
    "df = pd.json_normalize(data['employees'], \n",
    "                        record_path=['projects'],  # Flatten projects\n",
    "                        meta=['employee_id', 'name'],  # Keep employee info\n",
    "                        meta_prefix='employee_',  # Prefix to resolve name conflict\n",
    "                        record_prefix='project_',  # Prefix for project fields\n",
    "                        errors='ignore')\n"
   ]
  },
  {
   "cell_type": "code",
   "execution_count": 22,
   "id": "e17b8e92",
   "metadata": {},
   "outputs": [
    {
     "data": {
      "text/html": [
       "<div><div id=9954ab9e-0daf-4782-9f99-69258a7e41dc style=\"display:none; background-color:#9D6CFF; color:white; width:200px; height:30px; padding-left:5px; border-radius:4px; flex-direction:row; justify-content:space-around; align-items:center;\" onmouseover=\"this.style.backgroundColor='#BA9BF8'\" onmouseout=\"this.style.backgroundColor='#9D6CFF'\" onclick=\"window.commands?.execute('create-mitosheet-from-dataframe-output');\">See Full Dataframe in Mito</div> <script> if (window.commands?.hasCommand('create-mitosheet-from-dataframe-output')) document.getElementById('9954ab9e-0daf-4782-9f99-69258a7e41dc').style.display = 'flex' </script> <table border=\"1\" class=\"dataframe\">\n",
       "  <thead>\n",
       "    <tr style=\"text-align: right;\">\n",
       "      <th></th>\n",
       "      <th>project_project_id</th>\n",
       "      <th>project_name</th>\n",
       "      <th>project_status</th>\n",
       "      <th>employee_employee_id</th>\n",
       "      <th>employee_name</th>\n",
       "    </tr>\n",
       "  </thead>\n",
       "  <tbody>\n",
       "    <tr>\n",
       "      <th>0</th>\n",
       "      <td>P101</td>\n",
       "      <td>Website Redesign</td>\n",
       "      <td>Completed</td>\n",
       "      <td>101</td>\n",
       "      <td>Alice Johnson</td>\n",
       "    </tr>\n",
       "    <tr>\n",
       "      <th>1</th>\n",
       "      <td>P102</td>\n",
       "      <td>Mobile App Development</td>\n",
       "      <td>In Progress</td>\n",
       "      <td>101</td>\n",
       "      <td>Alice Johnson</td>\n",
       "    </tr>\n",
       "    <tr>\n",
       "      <th>2</th>\n",
       "      <td>P103</td>\n",
       "      <td>Employee Onboarding System</td>\n",
       "      <td>Ongoing</td>\n",
       "      <td>102</td>\n",
       "      <td>Bob Smith</td>\n",
       "    </tr>\n",
       "  </tbody>\n",
       "</table></div>"
      ],
      "text/plain": [
       "  project_project_id                project_name project_status  \\\n",
       "0               P101            Website Redesign      Completed   \n",
       "1               P102      Mobile App Development    In Progress   \n",
       "2               P103  Employee Onboarding System        Ongoing   \n",
       "\n",
       "  employee_employee_id  employee_name  \n",
       "0                  101  Alice Johnson  \n",
       "1                  101  Alice Johnson  \n",
       "2                  102      Bob Smith  "
      ]
     },
     "execution_count": 22,
     "metadata": {},
     "output_type": "execute_result"
    }
   ],
   "source": [
    "df"
   ]
  },
  {
   "cell_type": "code",
   "execution_count": 27,
   "id": "84bec365",
   "metadata": {},
   "outputs": [
    {
     "name": "stdout",
     "output_type": "stream",
     "text": [
      "\n",
      "Employee ID: 101\n",
      "Name: Alice Johnson\n",
      "Age: 28\n",
      "Gender: Female\n",
      "Email: alice.johnson@example.com\n",
      "Phone: +1-234-567-8901\n",
      "Department: IT\n",
      "Designation: Software Engineer\n",
      "Salary: $75000\n",
      "Joining Date: 2020-06-15\n",
      "Projects:\n",
      "  - Website Redesign (Status: Completed)\n",
      "  - Mobile App Development (Status: In Progress)\n",
      "\n",
      "Employee ID: 102\n",
      "Name: Bob Smith\n",
      "Age: 35\n",
      "Gender: Male\n",
      "Email: bob.smith@example.com\n",
      "Phone: +1-234-567-8902\n",
      "Department: HR\n",
      "Designation: HR Manager\n",
      "Salary: $65000\n",
      "Joining Date: 2019-08-20\n",
      "Projects:\n",
      "  - Employee Onboarding System (Status: Ongoing)\n"
     ]
    }
   ],
   "source": [
    "# Iterate through each employee and print details\n",
    "for emp in data[\"employees\"]:\n",
    "    print(f\"\\nEmployee ID: {emp['employee_id']}\")\n",
    "    print(f\"Name: {emp['name']}\")\n",
    "    print(f\"Age: {emp['personal_details']['age']}\")\n",
    "    print(f\"Gender: {emp['personal_details']['gender']}\")\n",
    "    print(f\"Email: {emp['personal_details']['contact']['email']}\")\n",
    "    print(f\"Phone: {emp['personal_details']['contact']['phone']}\")\n",
    "    print(f\"Department: {emp['job_details']['department']}\")\n",
    "    print(f\"Designation: {emp['job_details']['designation']}\")\n",
    "    print(f\"Salary: ${emp['job_details']['salary']}\")\n",
    "    print(f\"Joining Date: {emp['job_details']['joining_date']}\")\n",
    "    \n",
    "    # Handling multiple projects\n",
    "    if emp[\"projects\"]:\n",
    "        print(\"Projects:\")\n",
    "        for proj in emp[\"projects\"]:\n",
    "            print(f\"  - {proj['name']} (Status: {proj['status']})\")\n",
    "    else:\n",
    "        print(\"Projects: None\")"
   ]
  },
  {
   "cell_type": "code",
   "execution_count": null,
   "id": "323f3ea9",
   "metadata": {},
   "outputs": [],
   "source": []
  }
 ],
 "metadata": {
  "kernelspec": {
   "display_name": "Python 3",
   "language": "python",
   "name": "python3"
  },
  "language_info": {
   "codemirror_mode": {
    "name": "ipython",
    "version": 3
   },
   "file_extension": ".py",
   "mimetype": "text/x-python",
   "name": "python",
   "nbconvert_exporter": "python",
   "pygments_lexer": "ipython3",
   "version": "3.8.5"
  }
 },
 "nbformat": 4,
 "nbformat_minor": 5
}
